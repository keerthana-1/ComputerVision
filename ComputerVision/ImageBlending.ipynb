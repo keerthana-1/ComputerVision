{
 "cells": [
  {
   "cell_type": "code",
   "execution_count": 2,
   "id": "7ca8363e",
   "metadata": {},
   "outputs": [],
   "source": [
    "import cv2\n",
    "import numpy as np"
   ]
  },
  {
   "cell_type": "code",
   "execution_count": 8,
   "id": "75bcc1f9",
   "metadata": {},
   "outputs": [],
   "source": [
    "img1=cv2.imread(\"/Users/lakshmikeerthanaaravapalli/Desktop/ComputerVision/thor.jpg\")\n",
    "img1=cv2.resize(img1,(500,700))\n",
    "#cv2.imshow(\"thor\",img1)\n",
    "\n",
    "img2=cv2.imread(\"/Users/lakshmikeerthanaaravapalli/Desktop/ComputerVision/ironman.jpg\")\n",
    "img2=cv2.resize(img2,(500,700))\n",
    "#cv2.imshow(\"ironman\",img2)\n",
    "\n",
    "def blend(x):\n",
    "    pass\n",
    "\n",
    "img=np.zeros((400,400,3),np.uint8)\n",
    "cv2.namedWindow('win')\n",
    "cv2.createTrackbar('alpha','win',1,100,blend)\n",
    "s1=\"0:OFF,1:ON\"\n",
    "cv2.createTrackbar(s1,'win',0,1,blend)\n",
    "\n",
    "while True:\n",
    "    s=cv2.getTrackbarPos(s1,'win')\n",
    "    a=cv2.getTrackbarPos('alpha','win')\n",
    "    n=float(a/100)\n",
    "    \n",
    "    if s==0:\n",
    "        dst=img[:]\n",
    "    else:\n",
    "        dst=cv2.addWeighted(img1,1-n,img2,n,0)\n",
    "        \n",
    "    cv2.imshow('dst',dst)\n",
    "    k=cv2.waitKey(1)&0xFF\n",
    "    if(k==27):\n",
    "        break\n",
    "\n",
    "cv2.waitKey(0)\n",
    "cv2.destroyAllWindows()"
   ]
  },
  {
   "cell_type": "code",
   "execution_count": null,
   "id": "0c061b34",
   "metadata": {},
   "outputs": [],
   "source": []
  }
 ],
 "metadata": {
  "kernelspec": {
   "display_name": "Python 3 (ipykernel)",
   "language": "python",
   "name": "python3"
  },
  "language_info": {
   "codemirror_mode": {
    "name": "ipython",
    "version": 3
   },
   "file_extension": ".py",
   "mimetype": "text/x-python",
   "name": "python",
   "nbconvert_exporter": "python",
   "pygments_lexer": "ipython3",
   "version": "3.9.2"
  }
 },
 "nbformat": 4,
 "nbformat_minor": 5
}
