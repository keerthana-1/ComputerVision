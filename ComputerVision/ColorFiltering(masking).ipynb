{
 "cells": [
  {
   "cell_type": "code",
   "execution_count": 2,
   "id": "24bfbef8",
   "metadata": {},
   "outputs": [],
   "source": [
    "import cv2\n",
    "import numpy as np"
   ]
  },
  {
   "cell_type": "code",
   "execution_count": null,
   "id": "eac97203",
   "metadata": {},
   "outputs": [],
   "source": [
    "frame=cv2.imread(\"/Users/lakshmikeerthanaaravapalli/Desktop/ComputerVision/colorballs.jpg\")\n",
    "\n",
    "\n",
    "def blend(x):\n",
    "    pass\n",
    "\n",
    "cv2.namedWindow('ColorAdjustments')\n",
    "\n",
    "cv2.createTrackbar('Lower_H','ColorAdjustments',0,255,blend)\n",
    "cv2.createTrackbar('Lower_S','ColorAdjustments',0,255,blend)\n",
    "cv2.createTrackbar('Lower_V','ColorAdjustments',0,255,blend)\n",
    "\n",
    "\n",
    "cv2.createTrackbar('Upper_H','ColorAdjustments',255,255,blend)\n",
    "cv2.createTrackbar('Upper_S','ColorAdjustments',255,255,blend)\n",
    "cv2.createTrackbar('Upper_V','ColorAdjustments',255,255,blend)\n",
    "\n",
    "while True:\n",
    "    hsv=cv2.cvtColor(frame,cv2.COLOR_BGR2HSV)\n",
    "    l_h=cv2.getTrackbarPos('Lower_H','ColorAdjustments')\n",
    "    l_s=cv2.getTrackbarPos('Lower_S','ColorAdjustments')\n",
    "    l_val=cv2.getTrackbarPos('Lower_V','ColorAdjustments')\n",
    "    \n",
    "    u_h=cv2.getTrackbarPos('Upper_H','ColorAdjustments')\n",
    "    u_s=cv2.getTrackbarPos('Upper_S','ColorAdjustments')\n",
    "    u_val=cv2.getTrackbarPos('Upper_V','ColorAdjustments')\n",
    "    \n",
    "    u_v=np.array([u_h,u_s,u_val])\n",
    "    l_v=np.array([l_h,l_s,l_val])\n",
    "    \n",
    "    mask=cv2.inRange(hsv,l_v,u_v)\n",
    "    \n",
    "    res=cv2.bitwise_and(frame,frame,mask=mask)\n",
    "    \n",
    "    cv2.imshow(\"frame\",frame)\n",
    "    cv2.imshow(\"mask\",mask)\n",
    "    cv2.imshow(\"res\",res)\n",
    "    \n",
    "    k=cv2.waitKey(1)&0xFF\n",
    "    if(k==27):\n",
    "        break\n",
    "\n",
    "cv2.waitKey(0)\n",
    "cv2.destroyAllWindows()\n",
    "    "
   ]
  },
  {
   "cell_type": "code",
   "execution_count": null,
   "id": "ce303501",
   "metadata": {},
   "outputs": [],
   "source": []
  }
 ],
 "metadata": {
  "kernelspec": {
   "display_name": "Python 3 (ipykernel)",
   "language": "python",
   "name": "python3"
  },
  "language_info": {
   "codemirror_mode": {
    "name": "ipython",
    "version": 3
   },
   "file_extension": ".py",
   "mimetype": "text/x-python",
   "name": "python",
   "nbconvert_exporter": "python",
   "pygments_lexer": "ipython3",
   "version": "3.9.2"
  }
 },
 "nbformat": 4,
 "nbformat_minor": 5
}
