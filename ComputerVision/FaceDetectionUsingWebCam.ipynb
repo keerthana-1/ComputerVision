{
 "cells": [
  {
   "cell_type": "code",
   "execution_count": 1,
   "id": "2f791a95",
   "metadata": {},
   "outputs": [],
   "source": [
    "import cv2\n",
    "import numpy as np"
   ]
  },
  {
   "cell_type": "code",
   "execution_count": 2,
   "id": "5cea2e30",
   "metadata": {},
   "outputs": [
    {
     "ename": "AttributeError",
     "evalue": "'cv2.VideoCapture' object has no attribute 'Release'",
     "output_type": "error",
     "traceback": [
      "\u001b[0;31m---------------------------------------------------------------------------\u001b[0m",
      "\u001b[0;31mAttributeError\u001b[0m                            Traceback (most recent call last)",
      "Cell \u001b[0;32mIn[2], line 31\u001b[0m\n\u001b[1;32m     28\u001b[0m     \u001b[38;5;28;01mif\u001b[39;00m(cv2\u001b[38;5;241m.\u001b[39mwaitKey(\u001b[38;5;241m1\u001b[39m)\u001b[38;5;241m==\u001b[39m\u001b[38;5;241m13\u001b[39m):\n\u001b[1;32m     29\u001b[0m         \u001b[38;5;28;01mbreak\u001b[39;00m\n\u001b[0;32m---> 31\u001b[0m \u001b[43mcap\u001b[49m\u001b[38;5;241;43m.\u001b[39;49m\u001b[43mRelease\u001b[49m()\n\u001b[1;32m     32\u001b[0m cv2\u001b[38;5;241m.\u001b[39mdestroyAllWindows()\n",
      "\u001b[0;31mAttributeError\u001b[0m: 'cv2.VideoCapture' object has no attribute 'Release'"
     ]
    }
   ],
   "source": [
    "face=cv2.CascadeClassifier(\"/Users/lakshmikeerthanaaravapalli/Desktop/ComputerVision/haarcascade_frontalface_default.xml\") #for detecting face\n",
    "eye = cv2.CascadeClassifier('/Users/lakshmikeerthanaaravapalli/Desktop/ComputerVision/haarcascade_eye.xml') #for detecting eyes\n",
    "\n",
    "\n",
    "def detector(img):\n",
    "    img_gray=cv2.cvtColor(img,cv2.COLOR_BGR2GRAY)\n",
    "    faces=face.detectMultiScale(img_gray,1.3,5)\n",
    "    for (x,y,w,h) in faces:\n",
    "        img=cv2.rectangle(img,(x,y),(x+w,y+h),(127,0,125),3)\n",
    "        #get only face part to detect eyes\n",
    "        roi_gray=img_gray[y:y+h,x:x+w]\n",
    "        roi_color=img[y:y+h,x:x+w]\n",
    "    \n",
    "        #detect eyes in roi\n",
    "        eyes=eye.detectMultiScale(roi_gray,1.2,1)\n",
    "        for (ex,ey,ew,eh) in eyes:\n",
    "            cv2.rectangle(roi_color,(ex,ey),(ex+ew,ey+eh),(255,0,0),2)\n",
    "        \n",
    "    return img\n",
    "    \n",
    "cap=cv2.VideoCapture(0)\n",
    "\n",
    "while True:\n",
    "    ret,frame=cap.read()\n",
    "    frame=cv2.flip(frame,2)\n",
    "    \n",
    "    cv2.imshow(\"face detect\",detector(frame))\n",
    "    if(cv2.waitKey(1)==13):\n",
    "        break\n",
    "\n",
    "cap.Release()\n",
    "cv2.destroyAllWindows()"
   ]
  },
  {
   "cell_type": "code",
   "execution_count": null,
   "id": "c8d1749c",
   "metadata": {},
   "outputs": [],
   "source": []
  }
 ],
 "metadata": {
  "kernelspec": {
   "display_name": "Python 3 (ipykernel)",
   "language": "python",
   "name": "python3"
  },
  "language_info": {
   "codemirror_mode": {
    "name": "ipython",
    "version": 3
   },
   "file_extension": ".py",
   "mimetype": "text/x-python",
   "name": "python",
   "nbconvert_exporter": "python",
   "pygments_lexer": "ipython3",
   "version": "3.9.2"
  }
 },
 "nbformat": 4,
 "nbformat_minor": 5
}
