{
 "cells": [
  {
   "cell_type": "code",
   "execution_count": 1,
   "id": "605b717e",
   "metadata": {},
   "outputs": [],
   "source": [
    "import cv2\n",
    "import numpy as np"
   ]
  },
  {
   "cell_type": "code",
   "execution_count": null,
   "id": "55d4de09",
   "metadata": {},
   "outputs": [],
   "source": [
    "image = cv2.imread(\"/Users/lakshmikeerthanaaravapalli/Desktop/ComputerVision/dogcat.jpg\")\n",
    "face=cv2.CascadeClassifier(\"/Users/lakshmikeerthanaaravapalli/Desktop/ComputerVision/haarcascade_frontalcatface.xml\") #for detecting face\n",
    "\n",
    "gray=cv2.cvtColor(image,cv2.COLOR_BGR2GRAY)\n",
    "\n",
    "faces = face.detectMultiScale(gray,1.1,1)   #for  faces\n",
    "\n",
    "for(x,y,w,h) in faces:\n",
    "    \n",
    "    image=cv2.rectangle(image,(x,y),(x+w,y+h),(127,0,205),3)\n",
    "    \n",
    "    \n",
    "    \n",
    "image = cv2.resize(image,(800,700))\n",
    "cv2.imshow(\"Face Detected\",image)\n",
    "cv2.waitKey(0)\n",
    "cv2.destroyAllWindows()    \n"
   ]
  },
  {
   "cell_type": "code",
   "execution_count": null,
   "id": "1c461c43",
   "metadata": {},
   "outputs": [],
   "source": []
  }
 ],
 "metadata": {
  "kernelspec": {
   "display_name": "Python 3 (ipykernel)",
   "language": "python",
   "name": "python3"
  },
  "language_info": {
   "codemirror_mode": {
    "name": "ipython",
    "version": 3
   },
   "file_extension": ".py",
   "mimetype": "text/x-python",
   "name": "python",
   "nbconvert_exporter": "python",
   "pygments_lexer": "ipython3",
   "version": "3.9.2"
  }
 },
 "nbformat": 4,
 "nbformat_minor": 5
}
