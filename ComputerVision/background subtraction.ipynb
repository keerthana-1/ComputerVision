{
 "cells": [
  {
   "cell_type": "code",
   "execution_count": 1,
   "id": "e917b536",
   "metadata": {},
   "outputs": [],
   "source": [
    "#extract object from one image and place it on another image\n",
    "#Random figure roi or background subtraction\n",
    "\n",
    "import cv2\n",
    "import numpy as np"
   ]
  },
  {
   "cell_type": "code",
   "execution_count": 2,
   "id": "07e549c6",
   "metadata": {},
   "outputs": [],
   "source": [
    "img1=cv2.imread(\"/Users/lakshmikeerthanaaravapalli/Desktop/ComputerVision/hero1.jpeg\")\n",
    "img2=cv2.imread(\"/Users/lakshmikeerthanaaravapalli/Desktop/ComputerVision/strom_breaker.jpeg\")"
   ]
  },
  {
   "cell_type": "code",
   "execution_count": 3,
   "id": "f4433eb9",
   "metadata": {},
   "outputs": [
    {
     "name": "stdout",
     "output_type": "stream",
     "text": [
      "650 400 3\n"
     ]
    }
   ],
   "source": [
    "img1=cv2.resize(img1,(1024,650))\n",
    "img2=cv2.resize(img2,(400,650)) #should be less than img1\n",
    "\n",
    "r,c,ch=img2.shape\n",
    "print(r,c,ch)"
   ]
  },
  {
   "cell_type": "code",
   "execution_count": null,
   "id": "94215d13",
   "metadata": {},
   "outputs": [],
   "source": [
    "roi=img1[0:r,0:c]\n",
    "\n",
    "img_gry=cv2.cvtColor(img2,cv2.COLOR_BGR2GRAY)\n",
    "\n",
    "#creating mask\n",
    "_,mask=cv2.threshold(img_gry,70,255,cv2.THRESH_BINARY)\n",
    "\n",
    "#remove bg\n",
    "mask_inv=cv2.bitwise_not(mask)\n",
    "\n",
    "#put mask into roi\n",
    "img1_bg=cv2.bitwise_and(roi,roi,mask=mask_inv)\n",
    "\n",
    "#take only region of figure from img\n",
    "img2_fg=cv2.bitwise_and(img2,img2,mask=mask)\n",
    "\n",
    "#add img1_bg with img2_fg\n",
    "res=cv2.add(img1_bg,img2_fg)\n",
    "\n",
    "final=img1\n",
    "final[0:r,0:c]=res\n",
    "\n",
    "#cv2.imshow(\"Thor\",img1)\n",
    "#cv2.imshow(\"breaker\",img2)\n",
    "#cv2.imshow(\"roi\",roi)\n",
    "#cv2.imshow(\"img_gry\",img_gry)\n",
    "#cv2.imshow(\"mask\",mask)\n",
    "#cv2.imshow(\"img2_fg\",img2_fg)\n",
    "#cv2.imshow(\"result\",res)\n",
    "cv2.imshow(\"final\",final)\n",
    "\n",
    "cv2.waitKey(0)\n",
    "cv2.destroyAllWindows()"
   ]
  },
  {
   "cell_type": "code",
   "execution_count": null,
   "id": "4740daa7",
   "metadata": {},
   "outputs": [],
   "source": []
  }
 ],
 "metadata": {
  "kernelspec": {
   "display_name": "Python 3 (ipykernel)",
   "language": "python",
   "name": "python3"
  },
  "language_info": {
   "codemirror_mode": {
    "name": "ipython",
    "version": 3
   },
   "file_extension": ".py",
   "mimetype": "text/x-python",
   "name": "python",
   "nbconvert_exporter": "python",
   "pygments_lexer": "ipython3",
   "version": "3.9.2"
  }
 },
 "nbformat": 4,
 "nbformat_minor": 5
}
