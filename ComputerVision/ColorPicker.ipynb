{
 "cells": [
  {
   "cell_type": "code",
   "execution_count": 6,
   "id": "23943f69",
   "metadata": {},
   "outputs": [],
   "source": [
    "import cv2\n",
    "import numpy as np\n",
    "\n",
    "img=np.zeros((300,512,3),np.uint8)\n",
    "cv2.namedWindow(\"Color Picker\")\n",
    "\n",
    "def cross(x):\n",
    "    pass\n",
    "\n",
    "s1=\"0:OFF\\n1:ON\"\n",
    "cv2.createTrackbar(s1,\"Color Picker\",0,1,cross)\n",
    "\n",
    "cv2.createTrackbar(\"R\",\"Color Picker\",0,255,cross)\n",
    "cv2.createTrackbar(\"G\",\"Color Picker\",0,255,cross)\n",
    "cv2.createTrackbar(\"B\",\"Color Picker\",0,255,cross)\n",
    "\n",
    "while True:\n",
    "    cv2.imshow(\"Color Picker\",img)\n",
    "    k=cv2.waitKey(1)&0xFF\n",
    "    if(k==27):\n",
    "        break\n",
    "    s=cv2.getTrackbarPos(s1,\"Color Picker\")\n",
    "    r=cv2.getTrackbarPos(\"R\",\"Color Picker\")\n",
    "    g=cv2.getTrackbarPos(\"G\",\"Color Picker\")\n",
    "    b=cv2.getTrackbarPos(\"B\",\"Color Picker\")\n",
    "\n",
    "    if s==0:\n",
    "        img[:]=[0]\n",
    "    else:\n",
    "        img[:]=[r,g,b]\n",
    "\n",
    "cv2.destroyAllWindows()"
   ]
  },
  {
   "cell_type": "code",
   "execution_count": null,
   "id": "b455b466",
   "metadata": {},
   "outputs": [],
   "source": []
  }
 ],
 "metadata": {
  "kernelspec": {
   "display_name": "Python 3 (ipykernel)",
   "language": "python",
   "name": "python3"
  },
  "language_info": {
   "codemirror_mode": {
    "name": "ipython",
    "version": 3
   },
   "file_extension": ".py",
   "mimetype": "text/x-python",
   "name": "python",
   "nbconvert_exporter": "python",
   "pygments_lexer": "ipython3",
   "version": "3.9.2"
  }
 },
 "nbformat": 4,
 "nbformat_minor": 5
}
