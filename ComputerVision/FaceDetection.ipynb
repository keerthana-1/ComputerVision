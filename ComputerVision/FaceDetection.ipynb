{
 "cells": [
  {
   "cell_type": "code",
   "execution_count": 2,
   "id": "53b70fe2",
   "metadata": {},
   "outputs": [],
   "source": [
    "import cv2\n",
    "import numpy as np"
   ]
  },
  {
   "cell_type": "code",
   "execution_count": 3,
   "id": "0ab98ca6",
   "metadata": {},
   "outputs": [],
   "source": [
    "image = cv2.imread(\"/Users/lakshmikeerthanaaravapalli/Desktop/ComputerVision/a.jpg\")\n",
    "\n",
    "face=cv2.CascadeClassifier(\"/Users/lakshmikeerthanaaravapalli/Desktop/ComputerVision/haarcascade_frontalface_default.xml\") #for detecting face\n",
    "eye = cv2.CascadeClassifier('/Users/lakshmikeerthanaaravapalli/Desktop/ComputerVision/haarcascade_eye.xml') #for detecting eyes\n",
    "\n",
    "gray= cv2.cvtColor(image,cv2.COLOR_BGR2GRAY) #convert into gray \n",
    "\n",
    "faces = face.detectMultiScale(gray,4,4)   #for  faces"
   ]
  },
  {
   "cell_type": "code",
   "execution_count": null,
   "id": "2bee196d",
   "metadata": {},
   "outputs": [],
   "source": [
    "for (x,y,w,h) in faces:\n",
    "    image=cv2.rectangle(image,(x,y),(x+w,y+h),(127,0,205),3)\n",
    "    \n",
    "    #get only face part to detect eyes\n",
    "    roi_gray=gray[y:y+h,x:x+w]\n",
    "    roi_color=image[y:y+h,x:x+w]\n",
    "    \n",
    "    #detect eyes in roi\n",
    "    eyes=eye.detectMultiScale(roi_gray,1.2,1)\n",
    "    for (ex,ey,ew,eh) in eyes:\n",
    "        cv2.rectangle(roi_color,(ex,ey),(ex+ew,ey+eh),(255,0,0),2)\n",
    "    \n",
    "    \n",
    "image = cv2.resize(image,(800,700))\n",
    "cv2.imshow(\"Face Detected\",image)\n",
    "cv2.waitKey(0)\n",
    "cv2.destroyAllWindows()    \n",
    "    "
   ]
  },
  {
   "cell_type": "code",
   "execution_count": null,
   "id": "c1ce5d64",
   "metadata": {},
   "outputs": [],
   "source": []
  }
 ],
 "metadata": {
  "kernelspec": {
   "display_name": "Python 3 (ipykernel)",
   "language": "python",
   "name": "python3"
  },
  "language_info": {
   "codemirror_mode": {
    "name": "ipython",
    "version": 3
   },
   "file_extension": ".py",
   "mimetype": "text/x-python",
   "name": "python",
   "nbconvert_exporter": "python",
   "pygments_lexer": "ipython3",
   "version": "3.9.2"
  }
 },
 "nbformat": 4,
 "nbformat_minor": 5
}
