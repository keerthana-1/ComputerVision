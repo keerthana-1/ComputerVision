{
 "cells": [
  {
   "cell_type": "code",
   "execution_count": 1,
   "id": "275e5a42",
   "metadata": {},
   "outputs": [],
   "source": [
    "import cv2\n",
    "import numpy as np"
   ]
  },
  {
   "cell_type": "code",
   "execution_count": 2,
   "id": "e4bf8428",
   "metadata": {},
   "outputs": [],
   "source": [
    "img = cv2.imread(\"/Users/lakshmikeerthanaaravapalli/Desktop/ComputerVision/building.jpg\")\n",
    "img=cv2.resize(img,(700,700))"
   ]
  },
  {
   "cell_type": "code",
   "execution_count": 3,
   "id": "f82a5e14",
   "metadata": {},
   "outputs": [],
   "source": [
    "pd1=cv2.pyrDown(img)\n",
    "pd2=cv2.pyrDown(pd1)"
   ]
  },
  {
   "cell_type": "code",
   "execution_count": 4,
   "id": "2c1c7f83",
   "metadata": {},
   "outputs": [],
   "source": [
    "pu1=cv2.pyrUp(pd2)\n",
    "pu2=cv2.pyrUp(pu1)"
   ]
  },
  {
   "cell_type": "code",
   "execution_count": null,
   "id": "77550a05",
   "metadata": {},
   "outputs": [],
   "source": []
  }
 ],
 "metadata": {
  "kernelspec": {
   "display_name": "Python 3 (ipykernel)",
   "language": "python",
   "name": "python3"
  },
  "language_info": {
   "codemirror_mode": {
    "name": "ipython",
    "version": 3
   },
   "file_extension": ".py",
   "mimetype": "text/x-python",
   "name": "python",
   "nbconvert_exporter": "python",
   "pygments_lexer": "ipython3",
   "version": "3.9.2"
  }
 },
 "nbformat": 4,
 "nbformat_minor": 5
}
